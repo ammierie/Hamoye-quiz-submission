{
 "cells": [
  {
   "cell_type": "code",
   "execution_count": 1,
   "id": "7bce235d",
   "metadata": {},
   "outputs": [
    {
     "name": "stdout",
     "output_type": "stream",
     "text": [
      "       Area Code      Area  Item Code           Item  Element Code  \\\n",
      "0              4   Algeria       2501     Population           511   \n",
      "1              4   Algeria       2501     Population          5301   \n",
      "2              4   Algeria       2901    Grand Total           664   \n",
      "3              4   Algeria       2901    Grand Total           674   \n",
      "4              4   Algeria       2901    Grand Total           684   \n",
      "...          ...       ...        ...            ...           ...   \n",
      "60938        181  Zimbabwe       2899  Miscellaneous          5142   \n",
      "60939        181  Zimbabwe       2899  Miscellaneous           645   \n",
      "60940        181  Zimbabwe       2899  Miscellaneous           664   \n",
      "60941        181  Zimbabwe       2899  Miscellaneous           674   \n",
      "60942        181  Zimbabwe       2899  Miscellaneous           684   \n",
      "\n",
      "                                      Element             Unit     Y2014  \\\n",
      "0               Total Population - Both sexes     1000 persons  38924.00   \n",
      "1                    Domestic supply quantity      1000 tonnes      0.00   \n",
      "2               Food supply (kcal/capita/day)  kcal/capita/day   3377.00   \n",
      "3      Protein supply quantity (g/capita/day)     g/capita/day     94.90   \n",
      "4          Fat supply quantity (g/capita/day)     g/capita/day     80.06   \n",
      "...                                       ...              ...       ...   \n",
      "60938                                    Food      1000 tonnes     42.00   \n",
      "60939     Food supply quantity (kg/capita/yr)               kg      3.06   \n",
      "60940           Food supply (kcal/capita/day)  kcal/capita/day      3.00   \n",
      "60941  Protein supply quantity (g/capita/day)     g/capita/day      0.10   \n",
      "60942      Fat supply quantity (g/capita/day)     g/capita/day      0.04   \n",
      "\n",
      "          Y2015     Y2016     Y2017     Y2018  \n",
      "0      39728.00  40551.00  41389.00  42228.00  \n",
      "1          0.00      0.00      0.00      0.00  \n",
      "2       3379.00   3372.00   3341.00   3322.00  \n",
      "3         94.35     94.72     92.82     91.83  \n",
      "4         79.36     77.40     80.19     77.28  \n",
      "...         ...       ...       ...       ...  \n",
      "60938     46.00     33.00     19.00     16.00  \n",
      "60939      3.33      2.35      1.33      1.08  \n",
      "60940      4.00      3.00      1.00      1.00  \n",
      "60941      0.11      0.08      0.04      0.04  \n",
      "60942      0.05      0.03      0.02      0.01  \n",
      "\n",
      "[60943 rows x 12 columns]\n"
     ]
    }
   ],
   "source": [
    "import pandas as pd\n",
    "foodsheet = pd.read_csv(\"/Users/IFE/Downloads/Food.csv\")\n",
    "print(foodsheet)"
   ]
  },
  {
   "cell_type": "code",
   "execution_count": 5,
   "id": "3fd3e8bf",
   "metadata": {},
   "outputs": [
    {
     "data": {
      "text/plain": [
       "Y2014    209460.54\n",
       "Y2017    269617.53\n",
       "dtype: float64"
      ]
     },
     "execution_count": 5,
     "metadata": {},
     "output_type": "execute_result"
    }
   ],
   "source": [
    "food_animalfats = foodsheet[foodsheet['Item'] == 'Animal fats']\n",
    "food_animalfats[['Y2014', 'Y2017']].sum()"
   ]
  },
  {
   "cell_type": "code",
   "execution_count": 12,
   "id": "7246d591",
   "metadata": {},
   "outputs": [
    {
     "data": {
      "text/plain": [
       "Y2015    135.235966\n",
       "dtype: float64"
      ]
     },
     "execution_count": 12,
     "metadata": {},
     "output_type": "execute_result"
    }
   ],
   "source": [
    "foodsheet[['Y2015']].mean()"
   ]
  },
  {
   "cell_type": "code",
   "execution_count": 9,
   "id": "19b158cd",
   "metadata": {},
   "outputs": [
    {
     "data": {
      "text/plain": [
       "Y2015    1603.403984\n",
       "dtype: float64"
      ]
     },
     "execution_count": 9,
     "metadata": {},
     "output_type": "execute_result"
    }
   ],
   "source": [
    "foodsheet[['Y2015']].std()"
   ]
  },
  {
   "cell_type": "code",
   "execution_count": 14,
   "id": "dbcb4826",
   "metadata": {},
   "outputs": [
    {
     "data": {
      "text/plain": [
       "Y2015    1548\n",
       "dtype: int64"
      ]
     },
     "execution_count": 14,
     "metadata": {},
     "output_type": "execute_result"
    }
   ],
   "source": [
    "foodsheet[['Y2015']].isnull().sum()"
   ]
  },
  {
   "cell_type": "code",
   "execution_count": 17,
   "id": "5e41fff2",
   "metadata": {},
   "outputs": [
    {
     "name": "stdout",
     "output_type": "stream",
     "text": [
      "0.024456819495221733\n",
      "0.02388919930163992\n",
      "0.023443997584961344\n",
      "0.02425400776004579\n"
     ]
    }
   ],
   "source": [
    "print(foodsheet['Element Code'].corr(foodsheet['Y2014']))\n",
    "print(foodsheet['Element Code'].corr(foodsheet['Y2015']))\n",
    "print(foodsheet['Element Code'].corr(foodsheet['Y2016']))\n",
    "print(foodsheet['Element Code'].corr(foodsheet['Y2017']))"
   ]
  },
  {
   "cell_type": "code",
   "execution_count": 20,
   "id": "e6eed3a2",
   "metadata": {},
   "outputs": [
    {
     "data": {
      "text/plain": [
       "Y2014    274144.48\n",
       "Y2015    267018.46\n",
       "Y2016    286582.78\n",
       "Y2017    294559.09\n",
       "dtype: float64"
      ]
     },
     "execution_count": 20,
     "metadata": {},
     "output_type": "execute_result"
    }
   ],
   "source": [
    "food_import = foodsheet[foodsheet['Element'] == 'Import Quantity']\n",
    "food_import[['Y2014', 'Y2015', 'Y2016', 'Y2017']].sum()"
   ]
  },
  {
   "cell_type": "code",
   "execution_count": 23,
   "id": "2aac6e89",
   "metadata": {},
   "outputs": [
    {
     "data": {
      "text/plain": [
       "Y2014    1931287.75\n",
       "dtype: float64"
      ]
     },
     "execution_count": 23,
     "metadata": {},
     "output_type": "execute_result"
    }
   ],
   "source": [
    "food_import = foodsheet[foodsheet['Element'] == 'Production']\n",
    "food_import[['Y2014']].sum()\n"
   ]
  },
  {
   "cell_type": "code",
   "execution_count": 27,
   "id": "a40a5959",
   "metadata": {},
   "outputs": [
    {
     "name": "stdout",
     "output_type": "stream",
     "text": [
      "                                      Element     Y2018\n",
      "0               Total Population - Both sexes  42228.00\n",
      "1                    Domestic supply quantity      0.00\n",
      "2               Food supply (kcal/capita/day)   3322.00\n",
      "3      Protein supply quantity (g/capita/day)     91.83\n",
      "4          Fat supply quantity (g/capita/day)     77.28\n",
      "...                                       ...       ...\n",
      "60938                                    Food     16.00\n",
      "60939     Food supply quantity (kg/capita/yr)      1.08\n",
      "60940           Food supply (kcal/capita/day)      1.00\n",
      "60941  Protein supply quantity (g/capita/day)      0.04\n",
      "60942      Fat supply quantity (g/capita/day)      0.01\n",
      "\n",
      "[60943 rows x 2 columns]\n"
     ]
    }
   ],
   "source": [
    "food_element_2018 = foodsheet[['Element', 'Y2018']]\n",
    "print(food_element_2018)"
   ]
  },
  {
   "cell_type": "code",
   "execution_count": 31,
   "id": "bcbdbda9",
   "metadata": {},
   "outputs": [
    {
     "data": {
      "text/html": [
       "<div>\n",
       "<style scoped>\n",
       "    .dataframe tbody tr th:only-of-type {\n",
       "        vertical-align: middle;\n",
       "    }\n",
       "\n",
       "    .dataframe tbody tr th {\n",
       "        vertical-align: top;\n",
       "    }\n",
       "\n",
       "    .dataframe thead th {\n",
       "        text-align: right;\n",
       "    }\n",
       "</style>\n",
       "<table border=\"1\" class=\"dataframe\">\n",
       "  <thead>\n",
       "    <tr style=\"text-align: right;\">\n",
       "      <th></th>\n",
       "      <th>Y2018</th>\n",
       "    </tr>\n",
       "    <tr>\n",
       "      <th>Element</th>\n",
       "      <th></th>\n",
       "    </tr>\n",
       "  </thead>\n",
       "  <tbody>\n",
       "    <tr>\n",
       "      <th>Domestic supply quantity</th>\n",
       "      <td>2161192.10</td>\n",
       "    </tr>\n",
       "    <tr>\n",
       "      <th>Export Quantity</th>\n",
       "      <td>181594.80</td>\n",
       "    </tr>\n",
       "    <tr>\n",
       "      <th>Fat supply quantity (g/capita/day)</th>\n",
       "      <td>10258.69</td>\n",
       "    </tr>\n",
       "    <tr>\n",
       "      <th>Feed</th>\n",
       "      <td>233489.68</td>\n",
       "    </tr>\n",
       "    <tr>\n",
       "      <th>Food</th>\n",
       "      <td>1303841.28</td>\n",
       "    </tr>\n",
       "    <tr>\n",
       "      <th>Food supply (kcal/capita/day)</th>\n",
       "      <td>455261.00</td>\n",
       "    </tr>\n",
       "    <tr>\n",
       "      <th>Food supply quantity (kg/capita/yr)</th>\n",
       "      <td>49056.85</td>\n",
       "    </tr>\n",
       "    <tr>\n",
       "      <th>Import Quantity</th>\n",
       "      <td>287997.09</td>\n",
       "    </tr>\n",
       "    <tr>\n",
       "      <th>Losses</th>\n",
       "      <td>163902.00</td>\n",
       "    </tr>\n",
       "    <tr>\n",
       "      <th>Other uses (non-food)</th>\n",
       "      <td>91300.97</td>\n",
       "    </tr>\n",
       "    <tr>\n",
       "      <th>Processing</th>\n",
       "      <td>308429.00</td>\n",
       "    </tr>\n",
       "    <tr>\n",
       "      <th>Production</th>\n",
       "      <td>2075072.89</td>\n",
       "    </tr>\n",
       "    <tr>\n",
       "      <th>Protein supply quantity (g/capita/day)</th>\n",
       "      <td>11833.56</td>\n",
       "    </tr>\n",
       "    <tr>\n",
       "      <th>Residuals</th>\n",
       "      <td>34864.00</td>\n",
       "    </tr>\n",
       "    <tr>\n",
       "      <th>Seed</th>\n",
       "      <td>25263.14</td>\n",
       "    </tr>\n",
       "    <tr>\n",
       "      <th>Stock Variation</th>\n",
       "      <td>20577.91</td>\n",
       "    </tr>\n",
       "    <tr>\n",
       "      <th>Total Population - Both sexes</th>\n",
       "      <td>1140605.00</td>\n",
       "    </tr>\n",
       "    <tr>\n",
       "      <th>Tourist consumption</th>\n",
       "      <td>90.00</td>\n",
       "    </tr>\n",
       "  </tbody>\n",
       "</table>\n",
       "</div>"
      ],
      "text/plain": [
       "                                             Y2018\n",
       "Element                                           \n",
       "Domestic supply quantity                2161192.10\n",
       "Export Quantity                          181594.80\n",
       "Fat supply quantity (g/capita/day)        10258.69\n",
       "Feed                                     233489.68\n",
       "Food                                    1303841.28\n",
       "Food supply (kcal/capita/day)            455261.00\n",
       "Food supply quantity (kg/capita/yr)       49056.85\n",
       "Import Quantity                          287997.09\n",
       "Losses                                   163902.00\n",
       "Other uses (non-food)                     91300.97\n",
       "Processing                               308429.00\n",
       "Production                              2075072.89\n",
       "Protein supply quantity (g/capita/day)    11833.56\n",
       "Residuals                                 34864.00\n",
       "Seed                                      25263.14\n",
       "Stock Variation                           20577.91\n",
       "Total Population - Both sexes           1140605.00\n",
       "Tourist consumption                          90.00"
      ]
     },
     "execution_count": 31,
     "metadata": {},
     "output_type": "execute_result"
    }
   ],
   "source": [
    "food_element_2018.groupby(['Element']).sum()"
   ]
  },
  {
   "cell_type": "code",
   "execution_count": 35,
   "id": "83956e5a",
   "metadata": {},
   "outputs": [
    {
     "name": "stdout",
     "output_type": "stream",
     "text": [
      "                                     Element     Y2018\n",
      "0              Total Population - Both sexes  42228.00\n",
      "1                   Domestic supply quantity      0.00\n",
      "2              Food supply (kcal/capita/day)   3322.00\n",
      "3     Protein supply quantity (g/capita/day)     91.83\n",
      "4         Fat supply quantity (g/capita/day)     77.28\n",
      "...                                      ...       ...\n",
      "1308                                    Food     82.00\n",
      "1309     Food supply quantity (kg/capita/yr)      1.93\n",
      "1310           Food supply (kcal/capita/day)      2.00\n",
      "1311  Protein supply quantity (g/capita/day)      0.06\n",
      "1312      Fat supply quantity (g/capita/day)      0.03\n",
      "\n",
      "[1313 rows x 2 columns]\n"
     ]
    },
    {
     "data": {
      "text/plain": [
       "Y2018    36238.29\n",
       "dtype: float64"
      ]
     },
     "execution_count": 35,
     "metadata": {},
     "output_type": "execute_result"
    }
   ],
   "source": [
    "food_algeria = foodsheet[foodsheet['Area'] == 'Algeria']\n",
    "food_algeria_2018 = food_algeria[['Element', 'Y2018']]\n",
    "print(food_algeria_2018)\n",
    "food_algeria_import_quantity =food_algeria_2018[food_algeria_2018['Element'] == 'Import Quantity']\n",
    "food_algeria_import_quantity[['Y2018']].sum()"
   ]
  },
  {
   "cell_type": "code",
   "execution_count": 41,
   "id": "bfb0cd5f",
   "metadata": {},
   "outputs": [
    {
     "data": {
      "text/plain": [
       "array(['Algeria', 'Angola', 'Benin', 'Botswana', 'Burkina Faso',\n",
       "       'Cabo Verde', 'Cameroon', 'Central African Republic', 'Chad',\n",
       "       'Comoros', 'Congo', \"C�te d'Ivoire\", 'Djibouti', 'Egypt',\n",
       "       'Eswatini', 'Ethiopia', 'Ethiopia PDR', 'Gabon', 'Gambia', 'Ghana',\n",
       "       'Guinea', 'Guinea-Bissau', 'Kenya', 'Lesotho', 'Liberia',\n",
       "       'Madagascar', 'Malawi', 'Mali', 'Mauritania', 'Mauritius',\n",
       "       'Morocco', 'Mozambique', 'Namibia', 'Niger', 'Nigeria', 'Rwanda',\n",
       "       'Sao Tome and Principe', 'Senegal', 'Seychelles', 'Sierra Leone',\n",
       "       'South Africa', 'Sudan', 'Sudan (former)', 'Togo', 'Tunisia',\n",
       "       'Uganda', 'United Republic of Tanzania', 'Zambia', 'Zimbabwe'],\n",
       "      dtype=object)"
      ]
     },
     "execution_count": 41,
     "metadata": {},
     "output_type": "execute_result"
    }
   ],
   "source": [
    "foodsheet['Area'].unique()"
   ]
  },
  {
   "cell_type": "code",
   "execution_count": null,
   "id": "bd068d2f",
   "metadata": {},
   "outputs": [],
   "source": []
  }
 ],
 "metadata": {
  "kernelspec": {
   "display_name": "Python 3",
   "language": "python",
   "name": "python3"
  },
  "language_info": {
   "codemirror_mode": {
    "name": "ipython",
    "version": 3
   },
   "file_extension": ".py",
   "mimetype": "text/x-python",
   "name": "python",
   "nbconvert_exporter": "python",
   "pygments_lexer": "ipython3",
   "version": "3.8.8"
  }
 },
 "nbformat": 4,
 "nbformat_minor": 5
}
