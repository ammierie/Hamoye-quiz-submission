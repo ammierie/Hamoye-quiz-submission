{
  "nbformat": 4,
  "nbformat_minor": 0,
  "metadata": {
    "colab": {
      "name": "Hamoye stage B",
      "provenance": [],
      "authorship_tag": "ABX9TyMfgp2sZkr6MsdeZSYcz/Qz",
      "include_colab_link": true
    },
    "kernelspec": {
      "name": "python3",
      "display_name": "Python 3"
    },
    "language_info": {
      "name": "python"
    }
  },
  "cells": [
    {
      "cell_type": "markdown",
      "metadata": {
        "id": "view-in-github",
        "colab_type": "text"
      },
      "source": [
        "<a href=\"https://colab.research.google.com/github/ammierie/Hamoye-quiz-submission/blob/main/Hamoye_stage_B.ipynb\" target=\"_parent\"><img src=\"https://colab.research.google.com/assets/colab-badge.svg\" alt=\"Open In Colab\"/></a>"
      ]
    },
    {
      "cell_type": "code",
      "execution_count": 1,
      "metadata": {
        "id": "j5yZ5eIWs95y"
      },
      "outputs": [],
      "source": [
        "import pandas as pd"
      ]
    },
    {
      "cell_type": "code",
      "source": [
        "energy = pd.read_csv('/content/energydata_complete (1).csv')\n",
        "print(energy)"
      ],
      "metadata": {
        "colab": {
          "base_uri": "https://localhost:8080/"
        },
        "id": "2vwzQnHytdzk",
        "outputId": "f7db8beb-b2c5-48c0-9a46-004d6f65ec6a"
      },
      "execution_count": 2,
      "outputs": [
        {
          "output_type": "stream",
          "name": "stdout",
          "text": [
            "                      date  Appliances  lights  ...  Tdewpoint        rv1        rv2\n",
            "0      2016-01-11 17:00:00          60      30  ...   5.300000  13.275433  13.275433\n",
            "1      2016-01-11 17:10:00          60      30  ...   5.200000  18.606195  18.606195\n",
            "2      2016-01-11 17:20:00          50      30  ...   5.100000  28.642668  28.642668\n",
            "3      2016-01-11 17:30:00          50      40  ...   5.000000  45.410389  45.410389\n",
            "4      2016-01-11 17:40:00          60      40  ...   4.900000  10.084097  10.084097\n",
            "...                    ...         ...     ...  ...        ...        ...        ...\n",
            "19730  2016-05-27 17:20:00         100       0  ...  13.333333  43.096812  43.096812\n",
            "19731  2016-05-27 17:30:00          90       0  ...  13.300000  49.282940  49.282940\n",
            "19732  2016-05-27 17:40:00         270      10  ...  13.266667  29.199117  29.199117\n",
            "19733  2016-05-27 17:50:00         420      10  ...  13.233333   6.322784   6.322784\n",
            "19734  2016-05-27 18:00:00         430      10  ...  13.200000  34.118851  34.118851\n",
            "\n",
            "[19735 rows x 29 columns]\n"
          ]
        }
      ]
    },
    {
      "cell_type": "code",
      "source": [
        ""
      ],
      "metadata": {
        "id": "MYPHpp3KtuJf"
      },
      "execution_count": null,
      "outputs": []
    }
  ]
}